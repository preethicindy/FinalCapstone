{
    "cells": [
        {
            "cell_type": "markdown",
            "metadata": {
                "collapsed": true
            },
            "source": "# Introduction:\n\nToronto is the most multicultural city in Canada. It provides lot of business opportunities and business friendly environment. It is a global hub of business and commerce. The market is highly competitive here.So, any new business venture needs to be analysed carefully. However exciting it is to start a new business, there's a huge amount of risk involved in setting up one. The insights derived from analysis will give us good and brief understanding of the business environment. This will help in reduction of risk. In this project, we are going to find the most suitable location to open a new coffee business that shall yield profit.\n\n"
        },
        {
            "cell_type": "markdown",
            "metadata": {},
            "source": "# Business Problem:\n\nThe aim of this Capstone project is to find the most suitable location for the entrepreneur to open a new coffee shop in Toronto, Canada. By using foursquare api and other supporting libraries, this project aims to provide solutions to the question: In Toronto, if an entrepreneur wants to open a Coffee shop, where should he/she would consider opening it?\n"
        },
        {
            "cell_type": "markdown",
            "metadata": {},
            "source": "# Data:\n\n### The following data sources will be needed to generate the required outcome :\n\n* List of postal codes of Canada (from wikipedia page)\n* Latitude and Longitude of these postal code (toronto_loc.csv)\n\n"
        },
        {
            "cell_type": "code",
            "execution_count": null,
            "metadata": {},
            "outputs": [],
            "source": ""
        }
    ],
    "metadata": {
        "kernelspec": {
            "display_name": "Python 3.6",
            "language": "python",
            "name": "python3"
        },
        "language_info": {
            "codemirror_mode": {
                "name": "ipython",
                "version": 3
            },
            "file_extension": ".py",
            "mimetype": "text/x-python",
            "name": "python",
            "nbconvert_exporter": "python",
            "pygments_lexer": "ipython3",
            "version": "3.6.8"
        }
    },
    "nbformat": 4,
    "nbformat_minor": 1
}